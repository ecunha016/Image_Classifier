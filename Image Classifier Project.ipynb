{
 "cells": [
  {
   "cell_type": "markdown",
   "metadata": {},
   "source": [
    "# Developing an AI application\n",
    "\n",
    "Going forward, AI algorithms will be incorporated into more and more everyday applications. For example, you might want to include an image classifier in a smart phone app. To do this, you'd use a deep learning model trained on hundreds of thousands of images as part of the overall application architecture. A large part of software development in the future will be using these types of models as common parts of applications. \n",
    "\n",
    "In this project, you'll train an image classifier to recognize different species of flowers. You can imagine using something like this in a phone app that tells you the name of the flower your camera is looking at. In practice you'd train this classifier, then export it for use in your application. We'll be using [this dataset](http://www.robots.ox.ac.uk/~vgg/data/flowers/102/index.html) of 102 flower categories, you can see a few examples below. \n",
    "\n",
    "<img src='assets/Flowers.png' width=500px>\n",
    "\n",
    "The project is broken down into multiple steps:\n",
    "\n",
    "* Load and preprocess the image dataset\n",
    "* Train the image classifier on your dataset\n",
    "* Use the trained classifier to predict image content\n",
    "\n",
    "We'll lead you through each part which you'll implement in Python.\n",
    "\n",
    "When you've completed this project, you'll have an application that can be trained on any set of labeled images. Here your network will be learning about flowers and end up as a command line application. But, what you do with your new skills depends on your imagination and effort in building a dataset. For example, imagine an app where you take a picture of a car, it tells you what the make and model is, then looks up information about it. Go build your own dataset and make something new.\n",
    "\n",
    "First up is importing the packages you'll need. It's good practice to keep all the imports at the beginning of your code. As you work through this notebook and find you need to import a package, make sure to add the import up here."
   ]
  },
  {
   "cell_type": "code",
   "execution_count": 1,
   "metadata": {},
   "outputs": [],
   "source": [
    "# Imports here\n",
    "import time\n",
    "import numpy as np\n",
    "import pandas as pd\n",
    "import matplotlib.pyplot as plt\n",
    "\n",
    "import torch\n",
    "from torch import nn\n",
    "from torch import optim\n",
    "import torch.nn.functional as F\n",
    "\n",
    "import torchvision\n",
    "from torchvision import datasets, models, transforms\n",
    "\n",
    "from collections import OrderedDict\n",
    "\n",
    "import random, os\n",
    "\n",
    "import json\n",
    "\n",
    "from PIL import Image\n",
    "\n"
   ]
  },
  {
   "cell_type": "markdown",
   "metadata": {},
   "source": [
    "## Load the data\n",
    "\n",
    "Here you'll use `torchvision` to load the data ([documentation](http://pytorch.org/docs/0.3.0/torchvision/index.html)). The data should be included alongside this notebook, otherwise you can [download it here](https://s3.amazonaws.com/content.udacity-data.com/nd089/flower_data.tar.gz). The dataset is split into three parts, training, validation, and testing. For the training, you'll want to apply transformations such as random scaling, cropping, and flipping. This will help the network generalize leading to better performance. You'll also need to make sure the input data is resized to 224x224 pixels as required by the pre-trained networks.\n",
    "\n",
    "The validation and testing sets are used to measure the model's performance on data it hasn't seen yet. For this you don't want any scaling or rotation transformations, but you'll need to resize then crop the images to the appropriate size.\n",
    "\n",
    "The pre-trained networks you'll use were trained on the ImageNet dataset where each color channel was normalized separately. For all three sets you'll need to normalize the means and standard deviations of the images to what the network expects. For the means, it's `[0.485, 0.456, 0.406]` and for the standard deviations `[0.229, 0.224, 0.225]`, calculated from the ImageNet images.  These values will shift each color channel to be centered at 0 and range from -1 to 1.\n",
    " "
   ]
  },
  {
   "cell_type": "code",
   "execution_count": 2,
   "metadata": {},
   "outputs": [],
   "source": [
    "data_dir = 'flowers'\n",
    "train_dir = data_dir + '/train'\n",
    "valid_dir = data_dir + '/valid'\n",
    "test_dir = data_dir + '/test'"
   ]
  },
  {
   "cell_type": "code",
   "execution_count": 3,
   "metadata": {},
   "outputs": [],
   "source": [
    "# TODO: Define your transforms for the training, validation, and testing sets\n",
    "train_transforms = transforms.Compose([transforms.RandomHorizontalFlip(), \n",
    "                                                       transforms.RandomRotation(degrees=45), \n",
    "                                                       transforms.RandomResizedCrop(size=224),\n",
    "                                                       transforms.ToTensor(), \n",
    "                                                       transforms.Normalize(mean =(0.485, 0.456, 0.406), \n",
    "                                                                            std = (0.229, 0.224, 0.225))])\n",
    "valid_transforms = transforms.Compose([transforms.Resize(256), \n",
    "                                      transforms.CenterCrop(224),\n",
    "                                      transforms.ToTensor(),\n",
    "                                      transforms.Normalize([0.485, 0.456, 0.406], \n",
    "                                                           [0.229, 0.224, 0.225])])\n",
    "\n",
    "test_transforms = transforms.Compose([transforms.Resize(256), \n",
    "                                      transforms.CenterCrop(224), \n",
    "                                      transforms.ToTensor(), \n",
    "                                      transforms.Normalize([0.485, 0.456, 0.406], \n",
    "                                                           [0.229, 0.224, 0.225])])\n",
    "\n",
    "\n",
    "# TODO: Load the datasets with ImageFolder\n",
    "\n",
    "#Load train transformation into train_dir\n",
    "train_data = datasets.ImageFolder(train_dir, transform=train_transforms)\n",
    "#Load valid transformation into valid_dir\n",
    "valid_data = datasets.ImageFolder(valid_dir, transform=valid_transforms)\n",
    "#Load test transformation into test_dir\n",
    "test_data = datasets.ImageFolder(test_dir, transform = test_transforms)\n",
    "\n",
    "\n",
    "\n",
    "# TODO: Using the image datasets and the trainforms, define the dataloaders\n",
    "trainloader = torch.utils.data.DataLoader(train_data, batch_size=64, shuffle=True)\n",
    "validloader = torch.utils.data.DataLoader(valid_data, batch_size=32)\n",
    "testloader = torch.utils.data.DataLoader(test_data, batch_size=32)\n",
    "\n",
    "image_datasets = [train_data, valid_data, test_data]\n",
    "dataloaders = [trainloader, validloader, testloader]"
   ]
  },
  {
   "cell_type": "markdown",
   "metadata": {},
   "source": [
    "### Label mapping\n",
    "\n",
    "You'll also need to load in a mapping from category label to category name. You can find this in the file `cat_to_name.json`. It's a JSON object which you can read in with the [`json` module](https://docs.python.org/2/library/json.html). This will give you a dictionary mapping the integer encoded categories to the actual names of the flowers."
   ]
  },
  {
   "cell_type": "code",
   "execution_count": 4,
   "metadata": {},
   "outputs": [],
   "source": [
    "import json\n",
    "\n",
    "with open('cat_to_name.json', 'r') as f:\n",
    "    cat_to_name = json.load(f)"
   ]
  },
  {
   "cell_type": "markdown",
   "metadata": {},
   "source": [
    "# Building and training the classifier\n",
    "\n",
    "Now that the data is ready, it's time to build and train the classifier. As usual, you should use one of the pretrained models from `torchvision.models` to get the image features. Build and train a new feed-forward classifier using those features.\n",
    "\n",
    "We're going to leave this part up to you. Refer to [the rubric](https://review.udacity.com/#!/rubrics/1663/view) for guidance on successfully completing this section. Things you'll need to do:\n",
    "\n",
    "* Load a [pre-trained network](http://pytorch.org/docs/master/torchvision/models.html) (If you need a starting point, the VGG networks work great and are straightforward to use)\n",
    "* Define a new, untrained feed-forward network as a classifier, using ReLU activations and dropout\n",
    "* Train the classifier layers using backpropagation using the pre-trained network to get the features\n",
    "* Track the loss and accuracy on the validation set to determine the best hyperparameters\n",
    "\n",
    "We've left a cell open for you below, but use as many as you need. Our advice is to break the problem up into smaller parts you can run separately. Check that each part is doing what you expect, then move on to the next. You'll likely find that as you work through each part, you'll need to go back and modify your previous code. This is totally normal!\n",
    "\n",
    "When training make sure you're updating only the weights of the feed-forward network. You should be able to get the validation accuracy above 70% if you build everything right. Make sure to try different hyperparameters (learning rate, units in the classifier, epochs, etc) to find the best model. Save those hyperparameters to use as default values in the next part of the project.\n",
    "\n",
    "One last important tip if you're using the workspace to run your code: To avoid having your workspace disconnect during the long-running tasks in this notebook, please read in the earlier page in this lesson called Intro to\n",
    "GPU Workspaces about Keeping Your Session Active. You'll want to include code from the workspace_utils.py module.\n",
    "\n",
    "<font color='red'>**Note for Workspace users:** If your network is over 1 GB when saved as a checkpoint, there might be issues with saving backups in your workspace. Typically this happens with wide dense layers after the convolutional layers. If your saved checkpoint is larger than 1 GB (you can open a terminal and check with `ls -lh`), you should reduce the size of your hidden layers and train again.</font>"
   ]
  },
  {
   "cell_type": "code",
   "execution_count": 5,
   "metadata": {},
   "outputs": [
    {
     "name": "stdout",
     "output_type": "stream",
     "text": [
      "Sequential(\n",
      "  (dropout): Dropout(p=0.1)\n",
      "  (fcl): Linear(in_features=1000, out_features=512, bias=True)\n",
      "  (relu): ReLU()\n",
      "  (fc2): Linear(in_features=512, out_features=256, bias=True)\n",
      "  (fc3): Linear(in_features=256, out_features=102, bias=True)\n",
      "  (output): LogSoftmax()\n",
      ")\n"
     ]
    }
   ],
   "source": [
    "# TODO: Build and train your network\n",
    "#Choosing vgg to pretrain the model\n",
    "model = models.vgg16(pretrained=True)\n",
    "\n",
    "for param in model.parameters():\n",
    "    param.requires_grad = False\n",
    "\n",
    "#Untrained feed-forward network \n",
    "from collections import OrderedDict\n",
    "classifier = nn.Sequential(OrderedDict([('dropout', nn.Dropout(p=0.1)),\n",
    "                                            ('fcl', nn.Linear(1000, 512)),\n",
    "                                             ('relu', nn.ReLU()), \n",
    "                                             ('fc2', nn.Linear(512, 256)), \n",
    "                                             ('relu', nn.ReLU()), \n",
    "                                             ('fc3', nn.Linear(256, 102)), \n",
    "                                             ('output', nn.LogSoftmax(dim=1))]))\n",
    "\n",
    "print(classifier)\n",
    "model = model.to('cuda')\n",
    "classifier = classifier.to('cuda')\n",
    "criterion = nn.NLLLoss()\n",
    "optimizer = optim.Adam(classifier.parameters(), lr=0.001)"
   ]
  },
  {
   "cell_type": "code",
   "execution_count": 6,
   "metadata": {
    "scrolled": false
   },
   "outputs": [
    {
     "name": "stdout",
     "output_type": "stream",
     "text": [
      "Epoch 0..Step 5 Loss: 4.551..Validation Loss: 4.348..Accuracy: 0.065\n",
      "Epoch 0..Step 10 Loss: 4.317..Validation Loss: 3.973..Accuracy: 0.173\n",
      "Epoch 0..Step 15 Loss: 4.027..Validation Loss: 3.616..Accuracy: 0.240\n",
      "Epoch 0..Step 20 Loss: 3.711..Validation Loss: 3.311..Accuracy: 0.228\n",
      "Epoch 0..Step 25 Loss: 3.272..Validation Loss: 2.933..Accuracy: 0.283\n",
      "Epoch 0..Step 30 Loss: 3.159..Validation Loss: 2.707..Accuracy: 0.364\n",
      "Epoch 0..Step 35 Loss: 2.942..Validation Loss: 2.695..Accuracy: 0.326\n",
      "Epoch 0..Step 40 Loss: 2.730..Validation Loss: 2.560..Accuracy: 0.360\n",
      "Epoch 0..Step 45 Loss: 2.862..Validation Loss: 2.311..Accuracy: 0.420\n",
      "Epoch 0..Step 50 Loss: 2.609..Validation Loss: 2.242..Accuracy: 0.414\n",
      "Epoch 0..Step 55 Loss: 2.218..Validation Loss: 2.170..Accuracy: 0.437\n",
      "Epoch 0..Step 60 Loss: 2.103..Validation Loss: 2.086..Accuracy: 0.453\n",
      "Epoch 0..Step 65 Loss: 2.494..Validation Loss: 1.968..Accuracy: 0.476\n",
      "Epoch 0..Step 70 Loss: 2.065..Validation Loss: 1.985..Accuracy: 0.486\n",
      "Epoch 0..Step 75 Loss: 2.117..Validation Loss: 1.862..Accuracy: 0.493\n",
      "Epoch 0..Step 80 Loss: 2.197..Validation Loss: 1.898..Accuracy: 0.501\n",
      "Epoch 0..Step 85 Loss: 2.035..Validation Loss: 1.879..Accuracy: 0.503\n",
      "Epoch 0..Step 90 Loss: 1.938..Validation Loss: 1.731..Accuracy: 0.542\n",
      "Epoch 0..Step 95 Loss: 1.871..Validation Loss: 1.739..Accuracy: 0.537\n",
      "Epoch 0..Step 100 Loss: 1.985..Validation Loss: 1.736..Accuracy: 0.531\n",
      "Epoch 1..Step 105 Loss: 2.104..Validation Loss: 1.662..Accuracy: 0.548\n",
      "Epoch 1..Step 110 Loss: 1.731..Validation Loss: 1.621..Accuracy: 0.564\n",
      "Epoch 1..Step 115 Loss: 1.785..Validation Loss: 1.631..Accuracy: 0.550\n",
      "Epoch 1..Step 120 Loss: 1.764..Validation Loss: 1.789..Accuracy: 0.533\n",
      "Epoch 1..Step 125 Loss: 1.737..Validation Loss: 1.617..Accuracy: 0.554\n",
      "Epoch 1..Step 130 Loss: 1.825..Validation Loss: 1.509..Accuracy: 0.585\n",
      "Epoch 1..Step 135 Loss: 1.750..Validation Loss: 1.447..Accuracy: 0.599\n",
      "Epoch 1..Step 140 Loss: 1.750..Validation Loss: 1.553..Accuracy: 0.579\n",
      "Epoch 1..Step 145 Loss: 1.693..Validation Loss: 1.492..Accuracy: 0.579\n",
      "Epoch 1..Step 150 Loss: 1.890..Validation Loss: 1.577..Accuracy: 0.553\n",
      "Epoch 1..Step 155 Loss: 1.684..Validation Loss: 1.621..Accuracy: 0.562\n",
      "Epoch 1..Step 160 Loss: 1.758..Validation Loss: 1.471..Accuracy: 0.614\n",
      "Epoch 1..Step 165 Loss: 1.543..Validation Loss: 1.457..Accuracy: 0.614\n",
      "Epoch 1..Step 170 Loss: 1.558..Validation Loss: 1.498..Accuracy: 0.595\n",
      "Epoch 1..Step 175 Loss: 1.764..Validation Loss: 1.470..Accuracy: 0.608\n",
      "Epoch 1..Step 180 Loss: 1.671..Validation Loss: 1.474..Accuracy: 0.613\n",
      "Epoch 1..Step 185 Loss: 1.582..Validation Loss: 1.458..Accuracy: 0.614\n",
      "Epoch 1..Step 190 Loss: 1.748..Validation Loss: 1.337..Accuracy: 0.630\n",
      "Epoch 1..Step 195 Loss: 1.534..Validation Loss: 1.438..Accuracy: 0.638\n",
      "Epoch 1..Step 200 Loss: 1.749..Validation Loss: 1.383..Accuracy: 0.621\n",
      "Epoch 1..Step 205 Loss: 1.576..Validation Loss: 1.387..Accuracy: 0.629\n",
      "Epoch 2..Step 210 Loss: 1.689..Validation Loss: 1.470..Accuracy: 0.594\n",
      "Epoch 2..Step 215 Loss: 1.572..Validation Loss: 1.423..Accuracy: 0.625\n",
      "Epoch 2..Step 220 Loss: 1.756..Validation Loss: 1.456..Accuracy: 0.607\n",
      "Epoch 2..Step 225 Loss: 1.673..Validation Loss: 1.388..Accuracy: 0.610\n",
      "Epoch 2..Step 230 Loss: 1.666..Validation Loss: 1.458..Accuracy: 0.624\n",
      "Epoch 2..Step 235 Loss: 1.663..Validation Loss: 1.384..Accuracy: 0.633\n",
      "Epoch 2..Step 240 Loss: 1.486..Validation Loss: 1.349..Accuracy: 0.639\n",
      "Epoch 2..Step 245 Loss: 1.628..Validation Loss: 1.396..Accuracy: 0.613\n",
      "Epoch 2..Step 250 Loss: 1.544..Validation Loss: 1.391..Accuracy: 0.606\n",
      "Epoch 2..Step 255 Loss: 1.701..Validation Loss: 1.379..Accuracy: 0.616\n",
      "Epoch 2..Step 260 Loss: 1.557..Validation Loss: 1.259..Accuracy: 0.641\n",
      "Epoch 2..Step 265 Loss: 1.461..Validation Loss: 1.412..Accuracy: 0.581\n",
      "Epoch 2..Step 270 Loss: 1.571..Validation Loss: 1.318..Accuracy: 0.632\n",
      "Epoch 2..Step 275 Loss: 1.548..Validation Loss: 1.452..Accuracy: 0.614\n",
      "Epoch 2..Step 280 Loss: 1.593..Validation Loss: 1.365..Accuracy: 0.623\n",
      "Epoch 2..Step 285 Loss: 1.473..Validation Loss: 1.377..Accuracy: 0.631\n",
      "Epoch 2..Step 290 Loss: 1.637..Validation Loss: 1.262..Accuracy: 0.665\n",
      "Epoch 2..Step 295 Loss: 1.250..Validation Loss: 1.243..Accuracy: 0.669\n",
      "Epoch 2..Step 300 Loss: 1.342..Validation Loss: 1.276..Accuracy: 0.666\n",
      "Epoch 2..Step 305 Loss: 1.685..Validation Loss: 1.383..Accuracy: 0.635\n"
     ]
    }
   ],
   "source": [
    "#Training the classifier layers using backpropagation. \n",
    "#Uses the pretrained program to get the features.\n",
    "#Move this function into train.py\n",
    "#Setting epoch, steps, runningloss, and printevery steps. Larger the epochs, the greater accuracy.\n",
    "epochs = 3\n",
    "steps = 0\n",
    "running_loss = 0\n",
    "print_every = 5\n",
    "\n",
    "for epoch in range(epochs):\n",
    "    for inputs, labels in trainloader:\n",
    "        steps += 1\n",
    "        #Default inputs and label tensors\n",
    "        inputs, labels = inputs.to('cuda'), labels.to('cuda')\n",
    "        optimizer.zero_grad()\n",
    "        \n",
    "        #Forward / Backward pass\n",
    "        with torch.no_grad():\n",
    "            features = model.forward(inputs)\n",
    "        logps = classifier.forward(features)\n",
    "        loss = criterion(logps, labels)\n",
    "        loss.backward()\n",
    "        optimizer.step()\n",
    "        \n",
    "        running_loss += loss.item()\n",
    "        \n",
    "        if steps % print_every == 0:\n",
    "            valid_loss = 0\n",
    "            accuracy = 0\n",
    "            classifier.eval()\n",
    "            with torch.no_grad():\n",
    "                for inputs, labels in validloader:\n",
    "                    inputs, labels = inputs.to('cuda'),labels.to('cuda')\n",
    "                    \n",
    "                    with torch.no_grad():\n",
    "                        features = model.forward(inputs)\n",
    "                    logps = classifier.forward(features)\n",
    "                    batch_loss = criterion(logps, labels)\n",
    "                    valid_loss += batch_loss.item()\n",
    "                    \n",
    "                    #Accuracy calculation\n",
    "                    ps = torch.exp(logps)\n",
    "                    top_p, top_class = ps.topk(1, dim=1)\n",
    "                    equals = top_class == labels.view(*top_class.shape)\n",
    "                    accuracy += torch.mean(equals.type(torch.FloatTensor)).item()\n",
    "                    \n",
    "                print(f\"Epoch {epoch}..\"\n",
    "                     f\"Step {steps} \"\n",
    "                     f\"Loss: {running_loss/print_every:.3f}..\"\n",
    "                     f\"Validation Loss: {valid_loss/len(validloader):.3f}..\"\n",
    "                     f\"Accuracy: {accuracy/len(validloader):.3f}\")\n",
    "                #Set loss to 0 and train model\n",
    "                running_loss = 0\n",
    "                classifier.train()"
   ]
  },
  {
   "cell_type": "markdown",
   "metadata": {},
   "source": [
    "## Testing your network\n",
    "\n",
    "It's good practice to test your trained network on test data, images the network has never seen either in training or validation. This will give you a good estimate for the model's performance on completely new images. Run the test images through the network and measure the accuracy, the same way you did validation. You should be able to reach around 70% accuracy on the test set if the model has been trained well."
   ]
  },
  {
   "cell_type": "code",
   "execution_count": 7,
   "metadata": {},
   "outputs": [
    {
     "name": "stdout",
     "output_type": "stream",
     "text": [
      "Network Accuracy: 63.542%\n"
     ]
    }
   ],
   "source": [
    "# TODO: Do validation on the test set\n",
    "#Set epochs to >3 to have a higher accuracy result\n",
    "def check_test_accuracy(testloader):\n",
    "    accuracy = 0\n",
    "    valid_loss = 0\n",
    "    model.to('cuda')\n",
    "    with torch.no_grad():\n",
    "        for data in testloader:\n",
    "                    ps = torch.exp(logps)\n",
    "                    top_p, top_class = ps.topk(1, dim=1)\n",
    "                    equals = top_class == labels.view(*top_class.shape)\n",
    "                    accuracy += torch.mean(equals.type(torch.FloatTensor)).item()\n",
    "                    \n",
    "\n",
    "    \n",
    "print(f\"Network Accuracy: {accuracy/len(validloader)*100:.3f}%\")\n",
    "\n",
    "        \n",
    "\n",
    "        "
   ]
  },
  {
   "cell_type": "markdown",
   "metadata": {},
   "source": [
    "## Save the checkpoint\n",
    "\n",
    "Now that your network is trained, save the model so you can load it later for making predictions. You probably want to save other things such as the mapping of classes to indices which you get from one of the image datasets: `image_datasets['train'].class_to_idx`. You can attach this to the model as an attribute which makes inference easier later on.\n",
    "\n",
    "```model.class_to_idx = image_datasets['train'].class_to_idx```\n",
    "\n",
    "Remember that you'll want to completely rebuild the model later so you can use it for inference. Make sure to include any information you need in the checkpoint. If you want to load the model and keep training, you'll want to save the number of epochs as well as the optimizer state, `optimizer.state_dict`. You'll likely want to use this trained model in the next part of the project, so best to save it now."
   ]
  },
  {
   "cell_type": "code",
   "execution_count": 8,
   "metadata": {},
   "outputs": [],
   "source": [
    "# TODO: Save the checkpoint \n",
    "#Saving predicted class and the class name mapping path\n",
    "model.class_to_idx = train_data.class_to_idx\n",
    "model.cpu\n",
    "torch.save({'classifier' :'vgg16',\n",
    "            'state_dict': model.state_dict(),\n",
    "            'mapping':model.class_to_idx,\n",
    "            'class_to_idx':model.class_to_idx},\n",
    "            'checkpoint.pth')"
   ]
  },
  {
   "cell_type": "markdown",
   "metadata": {},
   "source": [
    "## Loading the checkpoint\n",
    "\n",
    "At this point it's good to write a function that can load a checkpoint and rebuild the model. That way you can come back to this project and keep working on it without having to retrain the network."
   ]
  },
  {
   "cell_type": "code",
   "execution_count": 9,
   "metadata": {},
   "outputs": [
    {
     "name": "stdout",
     "output_type": "stream",
     "text": [
      "VGG(\n",
      "  (features): Sequential(\n",
      "    (0): Conv2d(3, 64, kernel_size=(3, 3), stride=(1, 1), padding=(1, 1))\n",
      "    (1): ReLU(inplace)\n",
      "    (2): Conv2d(64, 64, kernel_size=(3, 3), stride=(1, 1), padding=(1, 1))\n",
      "    (3): ReLU(inplace)\n",
      "    (4): MaxPool2d(kernel_size=2, stride=2, padding=0, dilation=1, ceil_mode=False)\n",
      "    (5): Conv2d(64, 128, kernel_size=(3, 3), stride=(1, 1), padding=(1, 1))\n",
      "    (6): ReLU(inplace)\n",
      "    (7): Conv2d(128, 128, kernel_size=(3, 3), stride=(1, 1), padding=(1, 1))\n",
      "    (8): ReLU(inplace)\n",
      "    (9): MaxPool2d(kernel_size=2, stride=2, padding=0, dilation=1, ceil_mode=False)\n",
      "    (10): Conv2d(128, 256, kernel_size=(3, 3), stride=(1, 1), padding=(1, 1))\n",
      "    (11): ReLU(inplace)\n",
      "    (12): Conv2d(256, 256, kernel_size=(3, 3), stride=(1, 1), padding=(1, 1))\n",
      "    (13): ReLU(inplace)\n",
      "    (14): Conv2d(256, 256, kernel_size=(3, 3), stride=(1, 1), padding=(1, 1))\n",
      "    (15): ReLU(inplace)\n",
      "    (16): MaxPool2d(kernel_size=2, stride=2, padding=0, dilation=1, ceil_mode=False)\n",
      "    (17): Conv2d(256, 512, kernel_size=(3, 3), stride=(1, 1), padding=(1, 1))\n",
      "    (18): ReLU(inplace)\n",
      "    (19): Conv2d(512, 512, kernel_size=(3, 3), stride=(1, 1), padding=(1, 1))\n",
      "    (20): ReLU(inplace)\n",
      "    (21): Conv2d(512, 512, kernel_size=(3, 3), stride=(1, 1), padding=(1, 1))\n",
      "    (22): ReLU(inplace)\n",
      "    (23): MaxPool2d(kernel_size=2, stride=2, padding=0, dilation=1, ceil_mode=False)\n",
      "    (24): Conv2d(512, 512, kernel_size=(3, 3), stride=(1, 1), padding=(1, 1))\n",
      "    (25): ReLU(inplace)\n",
      "    (26): Conv2d(512, 512, kernel_size=(3, 3), stride=(1, 1), padding=(1, 1))\n",
      "    (27): ReLU(inplace)\n",
      "    (28): Conv2d(512, 512, kernel_size=(3, 3), stride=(1, 1), padding=(1, 1))\n",
      "    (29): ReLU(inplace)\n",
      "    (30): MaxPool2d(kernel_size=2, stride=2, padding=0, dilation=1, ceil_mode=False)\n",
      "  )\n",
      "  (classifier): Sequential(\n",
      "    (0): Linear(in_features=25088, out_features=4096, bias=True)\n",
      "    (1): ReLU(inplace)\n",
      "    (2): Dropout(p=0.5)\n",
      "    (3): Linear(in_features=4096, out_features=4096, bias=True)\n",
      "    (4): ReLU(inplace)\n",
      "    (5): Dropout(p=0.5)\n",
      "    (6): Linear(in_features=4096, out_features=1000, bias=True)\n",
      "  )\n",
      ")\n"
     ]
    }
   ],
   "source": [
    "# TODO: Write a function that loads a checkpoint and rebuilds the model\n",
    "def load_model(path):\n",
    "    checkpoint = torch.load('checkpoint.pth')\n",
    "    classifier = checkpoint['classifier']\n",
    "    state_dict = checkpoint['state_dict']\n",
    "    model.class_to_idx = checkpoint['class_to_idx']\n",
    "    model.load_state_dict(checkpoint['state_dict'])\n",
    "    \n",
    "    \n",
    "load_model('checkpoint.pth')  \n",
    "print(model)\n",
    "\n"
   ]
  },
  {
   "cell_type": "code",
   "execution_count": null,
   "metadata": {},
   "outputs": [],
   "source": []
  },
  {
   "cell_type": "markdown",
   "metadata": {},
   "source": [
    "# Inference for classification\n",
    "\n",
    "Now you'll write a function to use a trained network for inference. That is, you'll pass an image into the network and predict the class of the flower in the image. Write a function called `predict` that takes an image and a model, then returns the top $K$ most likely classes along with the probabilities. It should look like \n",
    "\n",
    "```python\n",
    "probs, classes = predict(image_path, model)\n",
    "print(probs)\n",
    "print(classes)\n",
    "> [ 0.01558163  0.01541934  0.01452626  0.01443549  0.01407339]\n",
    "> ['70', '3', '45', '62', '55']\n",
    "```\n",
    "\n",
    "First you'll need to handle processing the input image such that it can be used in your network. \n",
    "\n",
    "## Image Preprocessing\n",
    "\n",
    "You'll want to use `PIL` to load the image ([documentation](https://pillow.readthedocs.io/en/latest/reference/Image.html)). It's best to write a function that preprocesses the image so it can be used as input for the model. This function should process the images in the same manner used for training. \n",
    "\n",
    "First, resize the images where the shortest side is 256 pixels, keeping the aspect ratio. This can be done with the [`thumbnail`](http://pillow.readthedocs.io/en/3.1.x/reference/Image.html#PIL.Image.Image.thumbnail) or [`resize`](http://pillow.readthedocs.io/en/3.1.x/reference/Image.html#PIL.Image.Image.thumbnail) methods. Then you'll need to crop out the center 224x224 portion of the image.\n",
    "\n",
    "Color channels of images are typically encoded as integers 0-255, but the model expected floats 0-1. You'll need to convert the values. It's easiest with a Numpy array, which you can get from a PIL image like so `np_image = np.array(pil_image)`.\n",
    "\n",
    "As before, the network expects the images to be normalized in a specific way. For the means, it's `[0.485, 0.456, 0.406]` and for the standard deviations `[0.229, 0.224, 0.225]`. You'll want to subtract the means from each color channel, then divide by the standard deviation. \n",
    "\n",
    "And finally, PyTorch expects the color channel to be the first dimension but it's the third dimension in the PIL image and Numpy array. You can reorder dimensions using [`ndarray.transpose`](https://docs.scipy.org/doc/numpy-1.13.0/reference/generated/numpy.ndarray.transpose.html). The color channel needs to be first and retain the order of the other two dimensions."
   ]
  },
  {
   "cell_type": "code",
   "execution_count": 10,
   "metadata": {},
   "outputs": [
    {
     "name": "stdout",
     "output_type": "stream",
     "text": [
      "torch.Size([3, 224, 224])\n"
     ]
    }
   ],
   "source": [
    "def process_image(image):\n",
    "    ''' Scales, crops, and normalizes a PIL image for a PyTorch model,\n",
    "        returns an Numpy array\n",
    "    '''\n",
    "    \n",
    "    # TODO: Process a PIL image for use in a PyTorch model\n",
    "    #Process PIL image\n",
    "    img_pil = Image.open(image)\n",
    "    img_transforms = transforms.Compose([transforms.Resize(256), \n",
    "                                         transforms.CenterCrop(224), \n",
    "                                         transforms.ToTensor(), \n",
    "                                         transforms.Normalize(mean=[0.485, 0.456, 0.406], \n",
    "                                                              std =[0.229, 0.224, 0.225])])\n",
    "    image = img_transforms(img_pil)\n",
    "    \n",
    "    return image\n",
    "img = (data_dir + '/test' + '/1/' + 'image_06743.jpg')\n",
    "img = process_image(img)\n",
    "print(img.shape)"
   ]
  },
  {
   "cell_type": "markdown",
   "metadata": {},
   "source": [
    "To check your work, the function below converts a PyTorch tensor and displays it in the notebook. If your `process_image` function works, running the output through this function should return the original image (except for the cropped out portions)."
   ]
  },
  {
   "cell_type": "code",
   "execution_count": 11,
   "metadata": {},
   "outputs": [
    {
     "data": {
      "text/plain": [
       "<matplotlib.axes._subplots.AxesSubplot at 0x7f39a25a5080>"
      ]
     },
     "execution_count": 11,
     "metadata": {},
     "output_type": "execute_result"
    },
    {
     "data": {
      "image/png": "[encoded data removed]",
      "text/plain": [
       "<matplotlib.figure.Figure at 0x7f399ef96cc0>"
      ]
     },
     "metadata": {
      "needs_background": "light"
     },
     "output_type": "display_data"
    }
   ],
   "source": [
    "def imshow(image, ax=None, title=None):\n",
    "    \"\"\"Imshow for Tensor.\"\"\"\n",
    "    if ax is None:\n",
    "        fig, ax = plt.subplots()\n",
    "    \n",
    "    # PyTorch tensors assume the color channel is the first dimension\n",
    "    # but matplotlib assumes is the third dimension\n",
    "    image = image.numpy().transpose((1, 2, 0))\n",
    "    \n",
    "    # Undo preprocessing\n",
    "    mean = np.array([0.485, 0.456, 0.406])\n",
    "    std = np.array([0.229, 0.224, 0.225])\n",
    "    image = std * image + mean\n",
    "    \n",
    "    # Image needs to be clipped between 0 and 1 or it looks like noise when displayed\n",
    "    image = np.clip(image, 0, 1)\n",
    "    \n",
    "    ax.imshow(image)\n",
    "    \n",
    "    return ax\n",
    "\n",
    "imshow(process_image (\"flowers/test/1/image_06752.jpg\"))"
   ]
  },
  {
   "cell_type": "markdown",
   "metadata": {},
   "source": [
    "## Class Prediction\n",
    "\n",
    "Once you can get images in the correct format, it's time to write a function for making predictions with your model. A common practice is to predict the top 5 or so (usually called top-$K$) most probable classes. You'll want to calculate the class probabilities then find the $K$ largest values.\n",
    "\n",
    "To get the top $K$ largest values in a tensor use [`x.topk(k)`](http://pytorch.org/docs/master/torch.html#torch.topk). This method returns both the highest `k` probabilities and the indices of those probabilities corresponding to the classes. You need to convert from these indices to the actual class labels using `class_to_idx` which hopefully you added to the model or from an `ImageFolder` you used to load the data ([see here](#Save-the-checkpoint)). Make sure to invert the dictionary so you get a mapping from index to class as well.\n",
    "\n",
    "Again, this method should take a path to an image and a model checkpoint, then return the probabilities and classes.\n",
    "\n",
    "```python\n",
    "probs, classes = predict(image_path, model)\n",
    "print(probs)\n",
    "print(classes)\n",
    "> [ 0.01558163  0.01541934  0.01452626  0.01443549  0.01407339]\n",
    "> ['70', '3', '45', '62', '55']\n",
    "```"
   ]
  },
  {
   "cell_type": "code",
   "execution_count": 12,
   "metadata": {},
   "outputs": [
    {
     "name": "stdout",
     "output_type": "stream",
     "text": [
      "tensor([[ 0.8210,  0.0691,  0.0393,  0.0052,  0.0050]], device='cuda:0')\n",
      "tensor([[ 309,  946,  990,  322,  324]], device='cuda:0')\n"
     ]
    }
   ],
   "source": [
    " ''' Predict the class (or classes) of an image using a trained deep learning model.\n",
    "    '''\n",
    "   #Call predict in predcit.py after pasting in utils \n",
    "    # TODO: Implement the code to predict the class from an image file\n",
    "\n",
    "model.class_to_idx =train_data.class_to_idx\n",
    "ctx = model.class_to_idx\n",
    "\n",
    "def predict(img_path, model, topk=5):   \n",
    "    model.to('cuda:0')\n",
    "    img_torch = process_image(img_path)\n",
    "    img_torch = img_torch.unsqueeze_(0)\n",
    "    img_torch = img_torch.float()\n",
    "    \n",
    "    with torch.no_grad():\n",
    "        output = model.forward(img_torch.cuda())\n",
    "        \n",
    "    probability = F.softmax(output.data,dim=1)\n",
    "    \n",
    "    return probability.topk(topk)\n",
    "\n",
    "img = (data_dir + '/test' + '/10/' + 'image_07090.jpg')\n",
    "probs, classes = predict(img, model)\n",
    "print(probs)\n",
    "print(classes)\n",
    "    "
   ]
  },
  {
   "cell_type": "code",
   "execution_count": null,
   "metadata": {
    "scrolled": true
   },
   "outputs": [],
   "source": []
  },
  {
   "cell_type": "markdown",
   "metadata": {},
   "source": [
    "## Sanity Checking\n",
    "\n",
    "Now that you can use a trained model for predictions, check to make sure it makes sense. Even if the testing accuracy is high, it's always good to check that there aren't obvious bugs. Use `matplotlib` to plot the probabilities for the top 5 classes as a bar graph, along with the input image. It should look like this:\n",
    "\n",
    "<img src='assets/inference_example.png' width=300px>\n",
    "\n",
    "You can convert from the class integer encoding to actual flower names with the `cat_to_name.json` file (should have been loaded earlier in the notebook). To show a PyTorch tensor as an image, use the `imshow` function defined above."
   ]
  },
  {
   "cell_type": "code",
   "execution_count": 13,
   "metadata": {},
   "outputs": [],
   "source": [
    "# TODO: Display an image along with the top 5 classes\n",
    "#write plotting function in utils, call in predict.py\n",
    "def sanity_check():\n",
    "    plt.rcParams[\"figure.figsize\"] = (10,5)\n",
    "    plt.subplot(211)\n",
    "    index = 1\n",
    "    img_path = test_dir + '/10/image_07090.jpg'\n",
    "\n",
    "    probabilities, classes = predict(img_path, model)\n",
    "    image = process_image(img_path)\n",
    "    probabilities =np.array( probabilities)\n",
    "    \n",
    "#classes stored to CPU and converted to np array\n",
    "    classes=classes.cpu()\n",
    "    classes=classes.numpy()\n",
    "\n",
    "  \n",
    "    axs = imshow(image, ax = plt)\n",
    "    axs.axis('off')\n",
    "    axs.title(cat_to_name[str(index)])\n",
    "    axs.show()\n",
    "    \n",
    "\n",
    "    a = np.array(probabilities[0][0])\n",
    "    b = [list(cat_to_name)[int(index+1)] for index in np.array(classes[1][0])]\n",
    "    c = float(len(b))\n",
    "    \n",
    "    fig,ax = plt.subplots(figsize=(8,3))\n",
    "    width = 0.8\n",
    "    tickLocations = np.arange(c)\n",
    "    ax.bar(tickLocations, a, width, linewidth=4.0, align = 'center')\n",
    "    ax.set_xticks(ticks = tickLocations)\n",
    "    ax.set_xticklabels(b)\n",
    "    ax.set_xlim(min(tickLocations)-0.6,max(tickLocations)+0.6)\n",
    "    ax.set_yticks([0.2,0.4,0.6,0.8,1,1.2])\n",
    "    ax.set_ylim((0,1))\n",
    "    ax.yaxis.grid(True)\n",
    "    ax.yaxis.set_major_formatter(FormatStrFormatter('%.2f'))\n",
    "\n",
    "    plt.show()\n",
    "    \n",
    "\n",
    "sanity_check()"
   ]
  },
  {
   "cell_type": "code",
   "execution_count": null,
   "metadata": {},
   "outputs": [],
   "source": []
  },
  {
   "cell_type": "markdown",
   "metadata": {},
   "source": [
    "<font color='red'>**Reminder for Workspace users:** If your network becomes very large when saved as a checkpoint, there might be issues with saving backups in your workspace. You should reduce the size of your hidden layers and train again. \n",
    "    \n",
    "We strongly encourage you to delete these large interim files and directories before navigating to another page or closing the browser tab.</font>"
   ]
  },
  {
   "cell_type": "code",
   "execution_count": null,
   "metadata": {},
   "outputs": [],
   "source": []
  },
  {
   "cell_type": "code",
   "execution_count": null,
   "metadata": {},
   "outputs": [],
   "source": []
  }
 ],
 "metadata": {
  "kernelspec": {
   "display_name": "Python 3",
   "language": "python",
   "name": "python3"
  },
  "language_info": {
   "codemirror_mode": {
    "name": "ipython",
    "version": 3
   },
   "file_extension": ".py",
   "mimetype": "text/x-python",
   "name": "python",
   "nbconvert_exporter": "python",
   "pygments_lexer": "ipython3",
   "version": "3.6.3"
  }
 },
 "nbformat": 4,
 "nbformat_minor": 2
}
